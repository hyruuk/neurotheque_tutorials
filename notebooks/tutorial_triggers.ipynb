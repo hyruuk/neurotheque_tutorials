{
 "cells": [
  {
   "cell_type": "markdown",
   "metadata": {},
   "source": [
    "# Setting up event markers (triggers) for your task\n",
    "\n",
    "This tutorial will help you send triggers to the DSI-24 EEG triggers to annotate events in your experimental task.\n",
    "\n",
    "This is useful for [...]\n",
    "\n",
    "There are different ways of doing it : [...]\n",
    "\n",
    "We will use the serial port to communicate with the MMBT-S. Then the triggers are sent to either (1) the DSI Trigger hub or (2) the BIOPAC system."
   ]
  },
  {
   "cell_type": "markdown",
   "metadata": {},
   "source": [
    "## General considerations"
   ]
  },
  {
   "cell_type": "markdown",
   "metadata": {},
   "source": [
    "### Communicating on the parallel port"
   ]
  },
  {
   "cell_type": "code",
   "execution_count": null,
   "metadata": {
    "vscode": {
     "languageId": "plaintext"
    }
   },
   "outputs": [],
   "source": [
    "import serial\n",
    "Ser=serial.Serial('COM3')\n",
    "Ser.write(str.encode(chr(0))) # Send a 0 to make sure the port is resetted"
   ]
  },
  {
   "cell_type": "markdown",
   "metadata": {},
   "source": [
    "### Sending triggers on image flip (recommended for visual stimuli)"
   ]
  },
  {
   "cell_type": "code",
   "execution_count": null,
   "metadata": {
    "vscode": {
     "languageId": "plaintext"
    }
   },
   "outputs": [],
   "source": [
    "win.callOnFlip(Ser.write, str(encode(chr(1))))"
   ]
  },
  {
   "cell_type": "markdown",
   "metadata": {},
   "source": [
    "## Building a trigger structure"
   ]
  },
  {
   "cell_type": "markdown",
   "metadata": {},
   "source": [
    "### The tonic way"
   ]
  },
  {
   "cell_type": "markdown",
   "metadata": {},
   "source": [
    "### The phasic way"
   ]
  },
  {
   "cell_type": "markdown",
   "metadata": {},
   "source": [
    "## Adding triggers to your PsychoPy experiment\n",
    "\n",
    "As an example, lets implement triggers in the [default Go/No-go task](https://gitlab.pavlovia.org/demos/go_nogo) that can be found on Pavlovia"
   ]
  },
  {
   "cell_type": "markdown",
   "metadata": {},
   "source": [
    "### Open the port at the beginning of your experiment"
   ]
  },
  {
   "cell_type": "markdown",
   "metadata": {},
   "source": [
    "### Make sure the trigger channel is set to 0 as soon as your experiment starts"
   ]
  },
  {
   "cell_type": "markdown",
   "metadata": {},
   "source": [
    "### Identify the events that you need to mark, and appropriately call the function to send triggers"
   ]
  },
  {
   "cell_type": "markdown",
   "metadata": {},
   "source": [
    "### End your experiment\n",
    "#### Make sure the trigger channel is set back to 0 when your experiment stops\n",
    "#### Close the port properly"
   ]
  }
 ],
 "metadata": {
  "language_info": {
   "name": "python"
  }
 },
 "nbformat": 4,
 "nbformat_minor": 2
}
