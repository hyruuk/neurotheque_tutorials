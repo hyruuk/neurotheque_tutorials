{
 "cells": [
  {
   "cell_type": "markdown",
   "metadata": {},
   "source": [
    "# Setting up Event Markers (Triggers) for Your Task\n",
    "\n",
    "In many EEG or physiological experiments, it’s crucial to **mark** task events using “triggers” or “event markers.” By sending numeric codes to your recording system, you can synchronize recorded signals with specific experimental conditions or participant responses.\n",
    "\n",
    "This notebook focuses on **two main approaches** for sending triggers:\n",
    "1. **Phasic Triggers** – Short pulses at key moments (e.g., stimulus onset, button press).\n",
    "2. **Tonic Triggers** – Holding a trigger high for the duration of an event (or a longer time window).\n",
    "\n",
    "We also provide a **Go/No-Go** task example (uploaded to [Pavlovia](https://pavlovia.org/)) to show exactly how you might insert these triggers into your PsychoPy code modules. Although this tutorial highlights **Go/No-Go**, the same principles apply to **any** task needing triggers.\n"
   ]
  },
  {
   "cell_type": "markdown",
   "metadata": {},
   "source": [
    "## 1. General Setup\n",
    "\n",
    "### 1.1 Hardware and Serial Communication\n",
    "\n",
    "- **Neurospec MMBT-S** acts as a bridge from your computer’s serial port to the DSI system (or other hardware).  \n",
    "- On Windows, your serial port might be named `COM3`; on Linux/macOS, it might be `/dev/ttyUSB0`.\n",
    "\n",
    "We’ll use Python’s `serial` (PySerial) library. Typically, you start by:"
   ]
  },
  {
   "cell_type": "code",
   "execution_count": null,
   "metadata": {},
   "outputs": [],
   "source": [
    "import serial\n",
    "\n",
    "# Open the serial port; adjust 'COM3' to match your system\n",
    "Ser = serial.Serial('COM3', baudrate=115200, timeout=0.1)\n",
    "\n",
    "# Immediately reset the trigger line to 0 (idle state)\n",
    "Ser.write(str.encode(chr(0)))\n",
    "print(\"Serial port opened and trigger set to 0.\")"
   ]
  },
  {
   "cell_type": "markdown",
   "metadata": {},
   "source": [
    "### 1.2 Tonic vs. Phasic Triggers\n",
    "\n",
    "- **Tonic**: Keep a nonzero trigger value “high” for the duration of an event. You manually reset it to 0 at the end.  \n",
    "- **Phasic**: Send a brief pulse (e.g., 10–50 ms) exactly at the moment of interest, then automatically return to 0.\n",
    "\n",
    "**Which approach to use?**  \n",
    "- **Phasic** is typically best for discrete or momentary events (such as stimulus onset or a button press). It ensures precise time-locking and avoids leaving the trigger “on” too long.  \n",
    "- **Tonic** can represent a continuous state (for example, while a stimulus is displayed), then you reset at the event’s conclusion. This is useful if you need the trigger to remain high throughout an entire condition.\n",
    "\n",
    "### 1.3 send_trigger vs. send_trigger_onflip\n",
    "\n",
    "In many PsychoPy experiments, you need to synchronize triggers with visual (or other) stimuli. Specifically, **when** you send the trigger can be critical:\n",
    "\n",
    "1. **`send_trigger`**:  \n",
    "   - Sends a short pulse **immediately** upon function call.  \n",
    "   - It does **not** wait for a screen refresh. Instead, the trigger goes out at whatever point in time the code is executed.  \n",
    "   - This is perfect if you have an event that isn’t strictly tied to a stimulus flip, or if you want to send a trigger for something that happens asynchronously (like a response event or a condition changing in the background).\n",
    "\n",
    "2. **`send_trigger_onflip`**:  \n",
    "   - Schedules the trigger to turn **on** right at the next **screen refresh** (`win.flip()`), holds it for a specified duration, and then resets it to 0.  \n",
    "   - This is crucial if you want the trigger timestamp to line up exactly with the moment a stimulus appears on screen. Psychophysics and EEG/physiology experiments often require you to send the marker at the **precise** frame when the stimulus is displayed.\n",
    "\n",
    "### When to Use Which?\n",
    "\n",
    "- **Use `send_trigger`**:\n",
    "  - For events that aren’t locked to visual presentation (e.g., subject responses, intermediate states, or sending a marker at an arbitrary time in your experiment flow).  \n",
    "  - If you just want a quick, blocking pulse that doesn’t depend on `win.flip()` scheduling.\n",
    "\n",
    "- **Use `send_trigger_onflip`**:\n",
    "  - When you need the trigger to coincide with the exact moment the screen updates.  \n",
    "  - Commonly used for marking **stimulus onset**, ensuring your EEG/physiological data lines up with the frame the participant sees the stimulus for the first time.\n",
    "\n",
    "Below is the **complete code** for both functions, along with docstrings explaining their usage for **phasic** and **tonic** approaches:\n"
   ]
  },
  {
   "cell_type": "markdown",
   "metadata": {},
   "source": [
    "### Phasic: "
   ]
  },
  {
   "cell_type": "code",
   "execution_count": null,
   "metadata": {},
   "outputs": [],
   "source": [
    "from psychopy import core\n",
    "\n",
    "def send_trigger_phasic(ser, data, dur=0.01):\n",
    "    \"\"\"\n",
    "    Send a short trigger pulse by writing `data` to the serial port, \n",
    "    wait approximately `dur` seconds, then write 0 to turn the trigger off.\n",
    "    \n",
    "    Args:\n",
    "        ser (serial.Serial): An open serial port object.\n",
    "        data (int): The trigger value to send.\n",
    "        dur (float): Duration in seconds to keep the trigger high.\n",
    "    \"\"\"\n",
    "    # Mark the start time\n",
    "    start = core.getTime()\n",
    "    \n",
    "    # Write the trigger value\n",
    "    ser.write(str.encode(chr(data)))\n",
    "    \n",
    "    # Measure how long that took\n",
    "    elapsed = core.getTime() - start\n",
    "    remaining = dur - elapsed\n",
    "    \n",
    "    # Avoid negative waiting if sending took longer than dur\n",
    "    if remaining > 0:\n",
    "        core.wait(remaining)\n",
    "    \n",
    "    # Reset the trigger to 0\n",
    "    ser.write(str.encode(chr(0)))\n",
    "\n",
    "\n",
    "def send_trigger_onflip_phasic (win, ser, trigger_value, dur=0.05):\n",
    "    \"\"\"\n",
    "    Turn a trigger on at the next screen flip, hold it for `dur` seconds,\n",
    "    then reset to 0. This approach doesn't use core.callLater.\n",
    "    \"\"\"\n",
    "    \n",
    "    # 1) We'll queue the \"turn on\" for the next flip:\n",
    "    def turn_trigger_on():\n",
    "        ser.write(str.encode(chr(trigger_value)))\n",
    "        print(f\"Trigger {trigger_value} sent\")\n",
    "    \n",
    "    # Queue it to happen on the next flip\n",
    "    win.callOnFlip(turn_trigger_on)\n",
    "    \n",
    "    # 2) Actually flip so that the trigger command executes now\n",
    "    win.flip()\n",
    "\n",
    "    # 3) Wait the desired pulse duration\n",
    "    core.wait(dur)\n",
    "\n",
    "    # 4) Turn the trigger off\n",
    "    ser.write(str.encode(chr(0)))\n",
    "    print(\"Trigger reset to 0\")\n",
    "\n"
   ]
  },
  {
   "cell_type": "markdown",
   "metadata": {},
   "source": [
    "### Tonic"
   ]
  },
  {
   "cell_type": "code",
   "execution_count": null,
   "metadata": {},
   "outputs": [],
   "source": [
    "def send_trigger_tonic (ser, trigger_value):\n",
    "    \"\"\"\n",
    "    Send a 'tonic' trigger by writing `trigger_value` to the serial port.\n",
    "    The line remains at this value until you explicitly reset it.\n",
    "    \n",
    "    Args:\n",
    "        ser (serial.Serial): An open serial port object.\n",
    "        trigger_value (int): The trigger value to send.\n",
    "    \"\"\"\n",
    "    ser.write(str.encode(chr(trigger_value)))\n",
    "    print(f\"[TONIC] Trigger set to {trigger_value} (must reset later).\")\n",
    "\n",
    "\n",
    "def reset_trigger_tonic (ser):\n",
    "    \"\"\"\n",
    "    Manually reset the trigger line to 0 after using a tonic trigger.\n",
    "    \n",
    "    Args:\n",
    "        ser (serial.Serial): An open serial port object.\n",
    "    \"\"\"\n",
    "    ser.write(str.encode(chr(0)))\n",
    "    print(\"[TONIC] Trigger reset to 0.\")\n",
    "\n",
    "\n",
    "def send_trigger_onflip(win, ser, trigger_value):\n",
    "    \"\"\"\n",
    "    Turn a 'tonic' trigger on at the next screen flip (i.e., precisely when the new frame is drawn).\n",
    "    The line remains at this value until you explicitly reset it by calling `reset_tonic_trigger`.\n",
    "    \n",
    "    Args:\n",
    "        win (visual.Window): PsychoPy window object.\n",
    "        ser (serial.Serial): An open serial port object.\n",
    "        trigger_value (int): The trigger value to send.\n",
    "    \"\"\"\n",
    "    def turn_trigger_on():\n",
    "        ser.write(str.encode(chr(trigger_value)))\n",
    "        print(f\"[TONIC] Trigger {trigger_value} set on next flip (must reset later).\")\n",
    "    \n",
    "    # Schedule the trigger command for the next screen refresh\n",
    "    win.callOnFlip(turn_trigger_on)\n",
    "    \n",
    "    # Actually flip to execute the scheduled call\n",
    "    win.flip()\n"
   ]
  },
  {
   "cell_type": "markdown",
   "metadata": {},
   "source": [
    "## 2. Example Task: Go/No-Go on Pavlovia\n",
    "\n",
    "This section demonstrates how to incorporate triggers (both **phasic** and **tonic**) into a **Go/No-Go** experiment. The same logic applies to any other task; simply adapt the code for your events and conditions. We’ve also uploaded an example task to [Pavlovia](https://pavlovia.org/) so you can see the implementation in action.\n"
   ]
  },
  {
   "cell_type": "markdown",
   "metadata": {},
   "source": [
    "### 2.1 High-Level Task Flow\n",
    "\n",
    "A typical **Go/No-Go** experiment might follow these steps:\n",
    "\n",
    "1. **Task Start**  \n",
    "   - Optionally send a “task start” trigger, either as a brief (phasic) pulse or a tonic signal.  \n",
    "2. **Trial Begins**  \n",
    "   - Display either a **Go** or **No-Go** stimulus.  \n",
    "   - Immediately mark the stimulus onset with a phasic or tonic trigger.  \n",
    "3. **Participant Responds** (or not)  \n",
    "   - Collect keypresses.  \n",
    "   - Determine correctness (Go correct = pressed, No-Go correct = no press).  \n",
    "   - Send a trigger to mark correct or incorrect responses.  \n",
    "4. **Trial Ends**  \n",
    "   - If using **tonic** triggers, reset the line to 0 here (so it doesn’t carry into the next trial).  \n",
    "5. **Repeat** for the desired number of trials.  \n",
    "6. **Task End**  \n",
    "   - Send a “task end” trigger.  \n",
    "   - Reset the line to 0, and close the serial port.\n"
   ]
  },
  {
   "cell_type": "markdown",
   "metadata": {},
   "source": [
    "### 2.2 Adding Triggers in PsychoPy’s Builder\n",
    "\n",
    "We’ll assume you have a Builder setup with:\n",
    "- A routine named **“trial”** for each Go/No-Go stimulus presentation.\n",
    "- A **keyboard component** named `key_resp` for participant responses.\n",
    "- A **Code Component** in that routine (plus potentially separate routines for “start_trigger” and “goodbye”)."
   ]
  },
  {
   "cell_type": "markdown",
   "metadata": {},
   "source": [
    "#### 2.2.1 “Begin Experiment” Tab\n",
    "\n",
    "In your Code Component’s **“Begin Experiment”** section:\n"
   ]
  },
  {
   "cell_type": "code",
   "execution_count": null,
   "metadata": {},
   "outputs": [],
   "source": [
    "import serial\n",
    "from psychopy import core, visual, event\n",
    "\n",
    "# Initialize the serial port for the Neurospec MMBT-S -> DSI\n",
    "Ser = serial.Serial('COM3')\n",
    "\n",
    "# Immediately set trigger line to 0 at the experiment start\n",
    "Ser.write(str.encode(chr(0)))\n",
    "print(\"Serial port opened. Trigger line reset to 0.\")\n",
    "\n",
    "# Define trigger codes (integers for each event)\n",
    "TASK_START   = 10\n",
    "GO_ONSET     = 1\n",
    "NOGO_ONSET   = 2\n",
    "GO_CORRECT   = 3\n",
    "NOGO_CORRECT = 4\n",
    "INCORRECT    = 5\n",
    "TASK_END     = 99\n",
    "\n",
    "# Define your phasic/tonic trigger functions\n",
    "def send_trigger(ser, data, dur=0.01):\n",
    "\n",
    "    start = core.getTime()\n",
    "    ser.write(str.encode(chr(data)))\n",
    "    elapsed = core.getTime() - start\n",
    "    remaining = dur - elapsed\n",
    "    if remaining > 0:\n",
    "        core.wait(remaining)\n",
    "    ser.write(str.encode(chr(0)))\n",
    "\n",
    "\n",
    "def send_trigger_onflip(win, ser, trigger_value, dur=0.05):\n",
    "\n",
    "    def turn_trigger_on():\n",
    "        ser.write(str.encode(chr(trigger_value)))\n",
    "        print(f\"Trigger {trigger_value} sent\")\n",
    "    win.callOnFlip(turn_trigger_on)\n",
    "    win.flip()\n",
    "    core.wait(dur)\n",
    "    ser.write(str.encode(chr(0)))\n",
    "    print(\"Trigger reset to 0\")"
   ]
  },
  {
   "cell_type": "markdown",
   "metadata": {},
   "source": [
    "#### 2.2.2 “Begin Routine” Tab (Stimulus Onset)\n",
    "\n",
    "In the **“Begin Routine”** tab of your `trial` routine’s Code Component, you can decide how to mark stimulus onset. For instance, if your trial dictionary is named `thisTrial` and has a key `'this_image'`:\n"
   ]
  },
  {
   "cell_type": "code",
   "execution_count": null,
   "metadata": {},
   "outputs": [],
   "source": [
    "# Example: phasic approach for exact onset\n",
    "if thisTrial['this_image'] == 'go.png':\n",
    "    send_trigger_phasic(Ser, GO_ONSET, dur=0.01)\n",
    "elif thisTrial['this_image'] == 'nogo.png':\n",
    "    send_trigger_phasic(Ser, NOGO_ONSET, dur=0.01)\n",
    "\n",
    "# If using tonic instead, do:\n",
    "# if thisTrial['this_image'] == 'go.png':\n",
    "#     send_trigger_tonic(Ser, GO_ONSET)\n",
    "# elif thisTrial['this_image'] == 'nogo.png':\n",
    "#     send_trigger_tonic(Ser, NOGO_ONSET)"
   ]
  },
  {
   "cell_type": "markdown",
   "metadata": {},
   "source": [
    "#### 2.2.3 “End Routine” Tab (Response Evaluation)\n",
    "After the participant responds (or doesn’t), you can mark correct vs. incorrect outcomes. For instance:"
   ]
  },
  {
   "cell_type": "code",
   "execution_count": null,
   "metadata": {},
   "outputs": [],
   "source": [
    "# Grab whatever keys were pressed this trial\n",
    "resp_keys = key_resp.keys  # Might be [], ['space'], or None\n",
    "\n",
    "# Ensure resp_keys is always a list (some older PsychoPy versions return None)\n",
    "if resp_keys is None:\n",
    "    resp_keys = []\n",
    "\n",
    "# Determine correctness based on image and response\n",
    "if thisTrial['this_image'] == 'go.png':\n",
    "    # For a Go trial, correct if the participant pressed 'space'\n",
    "    if 'space' in resp_keys:\n",
    "        send_trigger(Ser,GO_CORRECT_TRIGGER)  \n",
    "        print(f\"Correct Go response, trigger {GO_CORRECT_TRIGGER} sent\")\n",
    "    else:\n",
    "        send_trigger(Ser,INCORRECT_TRIGGER)\n",
    "        print(f\"Incorrect Go response, trigger {INCORRECT_TRIGGER} sent\")\n",
    "\n",
    "elif thisTrial['this_image'] == 'nogo.png':\n",
    "    # For a NoGo trial, correct if NO key was pressed\n",
    "    if len(resp_keys) == 0:\n",
    "        send_trigger(Ser,NOGO_CORRECT_TRIGGER)\n",
    "        print(f\"Correct NoGo response, trigger {NOGO_CORRECT_TRIGGER} sent\")\n",
    "    else:\n",
    "        send_trigger(Ser,INCORRECT_TRIGGER)\n",
    "        print(f\"Incorrect NoGo response, trigger {INCORRECT_TRIGGER} sent\")\n",
    "\n",
    "else:\n",
    "    # In case there's some unexpected image name\n",
    "    print(\"Warning: Unknown image type, no trigger sent.\")\n"
   ]
  },
  {
   "cell_type": "markdown",
   "metadata": {},
   "source": [
    "## Building a trigger structure"
   ]
  },
  {
   "cell_type": "markdown",
   "metadata": {},
   "source": [
    "### The tonic way"
   ]
  },
  {
   "cell_type": "markdown",
   "metadata": {},
   "source": [
    "### The phasic way"
   ]
  },
  {
   "cell_type": "markdown",
   "metadata": {},
   "source": [
    "## Adding triggers to your PsychoPy experiment\n",
    "\n",
    "As an example, lets implement triggers in the [default Go/No-go task](https://gitlab.pavlovia.org/demos/go_nogo) that can be found on Pavlovia"
   ]
  },
  {
   "cell_type": "markdown",
   "metadata": {},
   "source": [
    "### Open the port at the beginning of your experiment"
   ]
  },
  {
   "cell_type": "markdown",
   "metadata": {},
   "source": [
    "### Make sure the trigger channel is set to 0 as soon as your experiment starts"
   ]
  },
  {
   "cell_type": "markdown",
   "metadata": {},
   "source": [
    "### Identify the events that you need to mark, and appropriately call the function to send triggers"
   ]
  },
  {
   "cell_type": "markdown",
   "metadata": {},
   "source": [
    "### End your experiment\n",
    "#### Make sure the trigger channel is set back to 0 when your experiment stops\n",
    "#### Close the port properly"
   ]
  }
 ],
 "metadata": {
  "kernelspec": {
   "display_name": "triggers",
   "language": "python",
   "name": "python3"
  },
  "language_info": {
   "name": "python",
   "version": "3.12.3"
  }
 },
 "nbformat": 4,
 "nbformat_minor": 2
}
